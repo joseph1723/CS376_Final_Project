{
 "cells": [
  {
   "cell_type": "code",
   "execution_count": 1,
   "metadata": {},
   "outputs": [],
   "source": [
    "import pandas as pd\n",
    "from pandas import isnull\n",
    "from nltk.corpus import brown\n",
    "from nltk.tokenize import TreebankWordDetokenizer, word_tokenize\n",
    "from random import sample, shuffle\n",
    "\n",
    "\n",
    "def contains_prof(text, profanities) :\n",
    "    tokenized_text = word_tokenize(text)\n",
    "    return (not not set(tokenized_text).intersection(set(profanities)))\n",
    "\n",
    "def ascii_range(text) :\n",
    "    for c in text :\n",
    "        if ord(c) not in range(128) : return False\n",
    "    return True"
   ]
  },
  {
   "cell_type": "code",
   "execution_count": 2,
   "metadata": {},
   "outputs": [
    {
     "name": "stdout",
     "output_type": "stream",
     "text": [
      "24738\n"
     ]
    }
   ],
   "source": [
    "prof_df_original = pd.read_csv(\"datasets/profanity_en.csv\",sep=',')\n",
    "prof_list = []\n",
    "labels = ['canonical_form_1', 'canonical_form_2', 'canonical_form_3']\n",
    "for _, row in prof_df_original.iterrows():\n",
    "    canons = [i for i in list(row[labels]) if not isnull(i)]\n",
    "    prof_list += canons\n",
    "prof_list = list(set(prof_list))\n",
    "\n",
    "df = pd.read_csv(\"datasets/reddit_wsb.csv\",sep=',')\n",
    "df.dropna(inplace=True)\n",
    "df = df[['title','body']]\n",
    "print(len(df))"
   ]
  },
  {
   "cell_type": "code",
   "execution_count": 3,
   "metadata": {},
   "outputs": [
    {
     "name": "stdout",
     "output_type": "stream",
     "text": [
      "428\n"
     ]
    }
   ],
   "source": [
    "hate_sents = []\n",
    "\n",
    "for idx, row in df.iterrows() :\n",
    "    text = row['title']\n",
    "    if contains_prof(text, prof_list) and len(text) <= 256 and ascii_range(text):\n",
    "        hate_sents.append(text)\n",
    "\n",
    "print(len(hate_sents))\n",
    "\n",
    "candidate_sents = [s for s in brown.sents() if len(s) <= 50]\n",
    "\n",
    "sents = sample(candidate_sents, len(hate_sents))\n",
    "tk = TreebankWordDetokenizer()\n",
    "nothate_sents = [tk.detokenize(s) for s in sents]"
   ]
  },
  {
   "cell_type": "code",
   "execution_count": 11,
   "metadata": {},
   "outputs": [],
   "source": [
    "new_labels = [\"hate\" for i in range(len(hate_sents))] + [\"nothate\" for i in range(len(nothate_sents))]\n",
    "new_sents = hate_sents + nothate_sents\n",
    "\n",
    "new_list = list(zip(new_sents, new_labels))\n",
    "shuffle(new_list)\n",
    "new_df = pd.DataFrame(new_list, columns=['text', 'label'])\n",
    "new_df.to_csv(\"augmented_data/Dataset_new_{i}.csv\".format(i=len(new_df)), sep=',')"
   ]
  }
 ],
 "metadata": {
  "kernelspec": {
   "display_name": "Python 3.9.13 64-bit",
   "language": "python",
   "name": "python3"
  },
  "language_info": {
   "codemirror_mode": {
    "name": "ipython",
    "version": 3
   },
   "file_extension": ".py",
   "mimetype": "text/x-python",
   "name": "python",
   "nbconvert_exporter": "python",
   "pygments_lexer": "ipython3",
   "version": "3.9.13"
  },
  "orig_nbformat": 4,
  "vscode": {
   "interpreter": {
    "hash": "b0fa6594d8f4cbf19f97940f81e996739fb7646882a419484c72d19e05852a7e"
   }
  }
 },
 "nbformat": 4,
 "nbformat_minor": 2
}
