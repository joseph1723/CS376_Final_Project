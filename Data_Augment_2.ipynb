{
 "cells": [
  {
   "cell_type": "code",
   "execution_count": 3,
   "metadata": {},
   "outputs": [
    {
     "name": "stdout",
     "output_type": "stream",
     "text": [
      "       Unnamed: 0     id                                               text  \\\n",
      "0           39059   8215                               limes are disgusting   \n",
      "1           35349  46738                      bullying is good if justified   \n",
      "2            5174  16723  Any of those gas chambers still available? I w...   \n",
      "3           28648  32674  He will never propose to you, when you get old...   \n",
      "4            4331  15861  there is no difference between white women and...   \n",
      "...           ...    ...                                                ...   \n",
      "26091        1149  11889                                Fuck it, I give up.   \n",
      "26092         168  10244  any normal person with a brain would agree tha...   \n",
      "26093        6009  17578  I am going to be fucking late for work as My f...   \n",
      "26094       40531   9778            Muslims are great.... at being tedious!   \n",
      "26095       38669   7808  If the Chinese weren't allowed over here we wo...   \n",
      "\n",
      "         label        type model_wrong  db.model_preds           status round  \\\n",
      "0      nothate        none        True         0.11620  dynabench entry     1   \n",
      "1      nothate        none        True         0.36394  dynabench entry    3a   \n",
      "2         hate    notgiven        True         0.99718  dynabench entry     1   \n",
      "3         hate  derogation        True         0.97136  dynabench entry    3a   \n",
      "4         hate    notgiven        True         0.99892  dynabench entry     1   \n",
      "...        ...         ...         ...             ...              ...   ...   \n",
      "26091  nothate        none       False         0.92385  dynabench entry     1   \n",
      "26092  nothate        none        True         0.40229  dynabench entry     1   \n",
      "26093  nothate        none        True         0.00804  dynabench entry     1   \n",
      "26094     hate    notgiven        True         0.93308  dynabench entry     1   \n",
      "26095     hate    notgiven        True         0.97487  dynabench entry     1   \n",
      "\n",
      "       split   annotator  \n",
      "0      train  tbubpfn6ip  \n",
      "1      train  lqlkttromx  \n",
      "2      train  oemywm1tjg  \n",
      "3      train  lqlkttromx  \n",
      "4      train  vde7gn0nrl  \n",
      "...      ...         ...  \n",
      "26091  train  cagnluiznm  \n",
      "26092  train  tbubpfn6ip  \n",
      "26093  train  vde7gn0nrl  \n",
      "26094  train  trrf46jwfp  \n",
      "26095  train  gnzuctwed3  \n",
      "\n",
      "[26096 rows x 11 columns]\n"
     ]
    }
   ],
   "source": [
    "import pandas as pd\n",
    "\n",
    "df = pd.read_csv(\"datasets/2020-12-31-DynamicallyGeneratedHateDataset-entries-v0.1.csv\",sep=',')\n",
    "df.dropna(inplace=True)\n",
    "df = df.sample(frac=1).reset_index(drop=True)\n",
    "\n",
    "print(df)\n",
    "df.to_csv(\"datasets/2020-12-31-DynamicallyGeneratedHateDataset-entries-v0.2.csv\",sep=',')"
   ]
  },
  {
   "cell_type": "code",
   "execution_count": 1,
   "metadata": {},
   "outputs": [],
   "source": [
    "import pandas as pd\n",
    "from pandas import isnull\n",
    "from nltk.corpus import brown\n",
    "from nltk.tokenize import TreebankWordDetokenizer, word_tokenize\n",
    "from random import sample, shuffle\n",
    "\n",
    "\n",
    "def contains_prof(text, profanities) :\n",
    "    tokenized_text = word_tokenize(text)\n",
    "    return (not not set(tokenized_text).intersection(set(profanities)))\n",
    "\n",
    "def ascii_range(text) :\n",
    "    for c in text :\n",
    "        if ord(c) not in range(128) : return False\n",
    "    return True"
   ]
  },
  {
   "cell_type": "code",
   "execution_count": 2,
   "metadata": {},
   "outputs": [
    {
     "name": "stdout",
     "output_type": "stream",
     "text": [
      "24738\n"
     ]
    }
   ],
   "source": [
    "prof_df_original = pd.read_csv(\"datasets/profanity_en.csv\",sep=',')\n",
    "prof_list = []\n",
    "labels = ['canonical_form_1', 'canonical_form_2', 'canonical_form_3']\n",
    "for _, row in prof_df_original.iterrows():\n",
    "    canons = [i for i in list(row[labels]) if not isnull(i)]\n",
    "    prof_list += canons\n",
    "prof_list = list(set(prof_list))\n",
    "\n",
    "df = pd.read_csv(\"datasets/reddit_wsb.csv\",sep=',')\n",
    "df.dropna(inplace=True)\n",
    "df = df[['title','body']]\n",
    "print(len(df))"
   ]
  },
  {
   "cell_type": "code",
   "execution_count": 3,
   "metadata": {},
   "outputs": [
    {
     "name": "stdout",
     "output_type": "stream",
     "text": [
      "428\n"
     ]
    }
   ],
   "source": [
    "hate_sents = []\n",
    "\n",
    "for idx, row in df.iterrows() :\n",
    "    text = row['title']\n",
    "    if contains_prof(text, prof_list) and len(text) <= 256 and ascii_range(text):\n",
    "        hate_sents.append(text)\n",
    "\n",
    "print(len(hate_sents))\n",
    "\n",
    "candidate_sents = [s for s in brown.sents() if len(s) <= 50]\n",
    "\n",
    "sents = sample(candidate_sents, len(hate_sents))\n",
    "tk = TreebankWordDetokenizer()\n",
    "nothate_sents = [tk.detokenize(s) for s in sents]"
   ]
  },
  {
   "cell_type": "code",
   "execution_count": 11,
   "metadata": {},
   "outputs": [],
   "source": [
    "new_labels = [\"hate\" for i in range(len(hate_sents))] + [\"nothate\" for i in range(len(nothate_sents))]\n",
    "new_sents = hate_sents + nothate_sents\n",
    "\n",
    "new_list = list(zip(new_sents, new_labels))\n",
    "shuffle(new_list)\n",
    "new_df = pd.DataFrame(new_list, columns=['text', 'label'])\n",
    "new_df.to_csv(\"augmented_data/Dataset_new_{i}.csv\".format(i=len(new_df)), sep=',')"
   ]
  }
 ],
 "metadata": {
  "kernelspec": {
   "display_name": "Python 3.9.13 64-bit",
   "language": "python",
   "name": "python3"
  },
  "language_info": {
   "codemirror_mode": {
    "name": "ipython",
    "version": 3
   },
   "file_extension": ".py",
   "mimetype": "text/x-python",
   "name": "python",
   "nbconvert_exporter": "python",
   "pygments_lexer": "ipython3",
   "version": "3.9.13"
  },
  "orig_nbformat": 4,
  "vscode": {
   "interpreter": {
    "hash": "b0fa6594d8f4cbf19f97940f81e996739fb7646882a419484c72d19e05852a7e"
   }
  }
 },
 "nbformat": 4,
 "nbformat_minor": 2
}
